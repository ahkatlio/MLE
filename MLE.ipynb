{
 "cells": [
  {
   "cell_type": "code",
   "execution_count": 1,
   "id": "8101f27d",
   "metadata": {},
   "outputs": [],
   "source": [
    "import numpy as np\n",
    "from qiskit.algorithms.optimizers import SPSA,GradientDescent,COBYLA\n",
    "from qiskit.quantum_info import Statevector\n",
    "\n",
    "import qiskit"
   ]
  },
  {
   "cell_type": "code",
   "execution_count": 2,
   "id": "afd86f74",
   "metadata": {},
   "outputs": [],
   "source": [
    "operator_to_index={'x':0,'z':1}   # we will store \n",
    "\n",
    "x0=Statevector([1/np.sqrt(2),1/np.sqrt(2)])\n",
    "x1=Statevector([1/np.sqrt(2),-1/np.sqrt(2)])\n",
    "z0=Statevector([1,0])\n",
    "z1=Statevector([0,1])\n",
    "\n",
    "measurement_list=[z0,z1,x0,x1]\n",
    "\n",
    "def get_operator_list(measurement_list):\n",
    "    op_list=[]\n",
    "    for state in measurement_list:\n",
    "        operator=np.outer(state,state)\n",
    "        operator=operator/len(measurement_list)\n",
    "        op_list.append(operator)\n",
    "        \n",
    "    return op_list\n"
   ]
  },
  {
   "cell_type": "code",
   "execution_count": 3,
   "id": "0b35ae07",
   "metadata": {},
   "outputs": [
    {
     "data": {
      "text/plain": [
       "[array([[0.25+0.j, 0.  +0.j],\n",
       "        [0.  +0.j, 0.  +0.j]]),\n",
       " array([[0.  +0.j, 0.  +0.j],\n",
       "        [0.  +0.j, 0.25+0.j]]),\n",
       " array([[0.125+0.j, 0.125+0.j],\n",
       "        [0.125+0.j, 0.125+0.j]]),\n",
       " array([[ 0.125+0.j, -0.125+0.j],\n",
       "        [-0.125+0.j,  0.125-0.j]])]"
      ]
     },
     "execution_count": 3,
     "metadata": {},
     "output_type": "execute_result"
    }
   ],
   "source": [
    "op_list=get_operator_list(measurement_list)\n",
    "op_list"
   ]
  },
  {
   "cell_type": "code",
   "execution_count": 4,
   "id": "1ad9cbf7",
   "metadata": {},
   "outputs": [],
   "source": [
    "operator_to_index={'x':0,'z':1}   # we will store \n",
    "\n",
    "\n",
    "\n",
    "class OptimizerLog:\n",
    "    \"\"\"Log to store optimizer's intermediate results\"\"\"\n",
    "    def __init__(self):\n",
    "        self.evaluations = []\n",
    "        self.parameters = []\n",
    "        self.costs = []\n",
    "    def update(self, evaluation, parameter, cost, _stepsize, _accept=None):\n",
    "        \"\"\"Save intermediate results. Optimizer passes five values\n",
    "        but we ignore the last two.\"\"\"\n",
    "        self.evaluations.append(evaluation)\n",
    "        self.parameters.append(parameter)\n",
    "        self.costs.append(cost)\n",
    "\n",
    "\n",
    "class GDOptimizerLog:\n",
    "    \"\"\"Log to store optimizer's intermediate results\"\"\"\n",
    "    def __init__(self):\n",
    "        self.evaluations = []\n",
    "        self.parameters = []\n",
    "        self.costs = []\n",
    "    def update(self, evaluation, parameter, cost, norm):\n",
    "        \"\"\"Save intermediate results. Optimizer passes five values\n",
    "        but we ignore the last two.\"\"\"\n",
    "        self.evaluations.append(evaluation)\n",
    "        self.parameters.append(parameter)\n",
    "        self.costs.append(cost)\n",
    "\n",
    "\n",
    "\n",
    "def cost_function(frequency_data,parameters):\n",
    "    loss=0\n",
    "    x=parameters[0]\n",
    "    z=parameters[1]\n",
    "    rho=0.5*np.array([[1+z,x],[x,1-z]])\n",
    "    i=0\n",
    "    for key,value in frequency_data.items():\n",
    "       \n",
    "        \n",
    "        \n",
    "        operator=op_list[i]\n",
    "        \n",
    "        \n",
    "        loss=loss-value*np.log(np.abs(np.trace(np.matmul(rho,operator))))\n",
    "        i+=1\n",
    "    \n",
    "    loss=loss+1000*(np.linalg.norm(parameters) - 1)**2       #add for constraint that the state lies on the bloch sphere\n",
    "    return loss\n",
    "\n",
    "        \n",
    "def objective_function(parameters):\n",
    "    \"\"\"Cost function of circuit parameters on training data.\n",
    "    The optimizer will attempt to minimize this.\"\"\"\n",
    "    \n",
    "    return cost_function(frequency_data , parameters)"
   ]
  },
  {
   "cell_type": "markdown",
   "id": "bf9882bc",
   "metadata": {},
   "source": [
    "#\n",
    "## The  frequencies we want (target frequencies) given as dictionary. Can change later (for arbitary directions)\n",
    "## x1/x0 is the number of outcomes with output '1' / '0' when measuring along x\n"
   ]
  },
  {
   "cell_type": "code",
   "execution_count": 5,
   "id": "01ed743d",
   "metadata": {},
   "outputs": [],
   "source": [
    "frequency_data={'z0':0.25, 'z1':0.25 ,'x0':0.5 ,'x1':0}\n",
    "# frequency_data = {'z0':0.25, 'z1':0.25 }   for single basis\n"
   ]
  },
  {
   "cell_type": "code",
   "execution_count": 6,
   "id": "b6fa03f6",
   "metadata": {},
   "outputs": [],
   "source": [
    "# Set and optimizer\n",
    "SPSA_log=OptimizerLog()\n",
    "\n",
    "optimizer_SPSA = SPSA(maxiter=200, callback=SPSA_log.update)\n"
   ]
  },
  {
   "cell_type": "code",
   "execution_count": 7,
   "id": "75406ed9",
   "metadata": {},
   "outputs": [],
   "source": [
    "num_params=2   # Two parameters for x and z coordinate of the state on bloch sphere\n",
    "repeat=True\n",
    "while(repeat):\n",
    "    initial_point=np.random.random(num_params)    # To get a state inside the bloch sphere only\n",
    "    if np.linalg.norm(initial_point)<1:\n",
    "        repeat=False\n",
    "\n",
    "initial_point=[0.07123558, 0.57687658]\n",
    "\n",
    "result_SPSA=optimizer_SPSA.minimize(objective_function,initial_point)"
   ]
  },
  {
   "cell_type": "code",
   "execution_count": 8,
   "id": "f4a11c25",
   "metadata": {},
   "outputs": [
    {
     "data": {
      "image/png": "[encoded data removed]",
      "text/plain": [
       "<Figure size 640x480 with 1 Axes>"
      ]
     },
     "metadata": {},
     "output_type": "display_data"
    },
    {
     "name": "stdout",
     "output_type": "stream",
     "text": [
      "3.196593036119306\n",
      "[-0.02530917  0.99260184]\n",
      "600\n"
     ]
    }
   ],
   "source": [
    "opt_var = result_SPSA.x\n",
    "opt_value = result_SPSA.fun\n",
    "y=result_SPSA.nfev\n",
    "\n",
    "import matplotlib.pyplot as plt\n",
    "fig = plt.figure()\n",
    "plt.plot(SPSA_log.evaluations, SPSA_log.costs)\n",
    "plt.xlabel('Steps')\n",
    "plt.ylabel('Cost')\n",
    "plt.show()\n",
    "print(opt_value)\n",
    "print(opt_var)\n",
    "print(y)"
   ]
  },
  {
   "cell_type": "code",
   "execution_count": 10,
   "id": "21ee1883",
   "metadata": {},
   "outputs": [
    {
     "name": "stdout",
     "output_type": "stream",
     "text": [
      "Norm of state =  0.9929244493587488\n"
     ]
    }
   ],
   "source": [
    "print('Norm of state = ', np.linalg.norm(opt_var)) \n",
    "\n",
    "# SPSA_log.parameters[:]\n",
    "\n",
    "\n"
   ]
  },
  {
   "cell_type": "code",
   "execution_count": null,
   "id": "c10c1315",
   "metadata": {},
   "outputs": [],
   "source": []
  },
  {
   "cell_type": "code",
   "execution_count": null,
   "id": "f9c93d11",
   "metadata": {},
   "outputs": [],
   "source": []
  }
 ],
 "metadata": {
  "kernelspec": {
   "display_name": "Python 3 (ipykernel)",
   "language": "python",
   "name": "python3"
  },
  "language_info": {
   "codemirror_mode": {
    "name": "ipython",
    "version": 3
   },
   "file_extension": ".py",
   "mimetype": "text/x-python",
   "name": "python",
   "nbconvert_exporter": "python",
   "pygments_lexer": "ipython3",
   "version": "3.9.13"
  }
 },
 "nbformat": 4,
 "nbformat_minor": 5
}
