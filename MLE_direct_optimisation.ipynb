{
 "cells": [
  {
   "cell_type": "code",
   "execution_count": 1,
   "id": "8101f27d",
   "metadata": {},
   "outputs": [],
   "source": [
    "import numpy as np\n",
    "from qiskit.algorithms.optimizers import SPSA,GradientDescent,COBYLA,ADAM\n",
    "from qiskit.quantum_info import Statevector\n",
    "\n",
    "import qiskit"
   ]
  },
  {
   "cell_type": "code",
   "execution_count": 2,
   "id": "afd86f74",
   "metadata": {},
   "outputs": [],
   "source": [
    "\n",
    "\n",
    "\n",
    "# These specify the measurement directions and outcomes (each direction has two eigenstates)\n",
    "x0=Statevector([1/np.sqrt(2),1/np.sqrt(2)])\n",
    "x1=Statevector([1/np.sqrt(2),-1/np.sqrt(2)])\n",
    "z0=Statevector([1,0])\n",
    "z1=Statevector([0,1])\n",
    "\n",
    "measurement_list=[z0,z1,x0,x1]\n",
    "\n",
    "def get_operator_list(measurement_list):\n",
    "    op_list=[]\n",
    "    for state in measurement_list:\n",
    "        operator=np.outer(state,state)\n",
    "        operator=operator/(len(measurement_list)/2)\n",
    "        op_list.append(operator)\n",
    "        \n",
    "    return op_list\n"
   ]
  },
  {
   "cell_type": "code",
   "execution_count": 3,
   "id": "0b35ae07",
   "metadata": {},
   "outputs": [
    {
     "data": {
      "text/plain": [
       "[array([[0.5+0.j, 0. +0.j],\n",
       "        [0. +0.j, 0. +0.j]]),\n",
       " array([[0. +0.j, 0. +0.j],\n",
       "        [0. +0.j, 0.5+0.j]]),\n",
       " array([[0.25+0.j, 0.25+0.j],\n",
       "        [0.25+0.j, 0.25+0.j]]),\n",
       " array([[ 0.25+0.j, -0.25+0.j],\n",
       "        [-0.25+0.j,  0.25-0.j]])]"
      ]
     },
     "execution_count": 3,
     "metadata": {},
     "output_type": "execute_result"
    }
   ],
   "source": [
    "# Form the projectors (measurement operators corresponding to those directions and outcomes ) : 4 operators for 4 outcomes\n",
    "op_list=get_operator_list(measurement_list)\n",
    "op_list"
   ]
  },
  {
   "cell_type": "code",
   "execution_count": 4,
   "id": "1ad9cbf7",
   "metadata": {},
   "outputs": [],
   "source": [
    "\n",
    "\n",
    "\n",
    "\n",
    "class OptimizerLog:\n",
    "    \"\"\"Log to store optimizer's intermediate results\"\"\"\n",
    "    def __init__(self):\n",
    "        self.evaluations = []\n",
    "        self.parameters = []\n",
    "        self.costs = []\n",
    "    def update(self, evaluation, parameter, cost, _stepsize, _accept=None):\n",
    "        \"\"\"Save intermediate results. Optimizer passes five values\n",
    "        but we ignore the last two.\"\"\"\n",
    "        self.evaluations.append(evaluation)\n",
    "        self.parameters.append(parameter)\n",
    "        self.costs.append(cost)\n",
    "\n",
    "\n",
    "class GDOptimizerLog:\n",
    "    \"\"\"Log to store optimizer's intermediate results\"\"\"\n",
    "    def __init__(self):\n",
    "        self.evaluations = []\n",
    "        self.parameters = []\n",
    "        self.costs = []\n",
    "    def update(self, evaluation, parameter, cost, norm):\n",
    "        \"\"\"Save intermediate results. Optimizer passes five values\n",
    "        but we ignore the last two.\"\"\"\n",
    "        self.evaluations.append(evaluation)\n",
    "        self.parameters.append(parameter)\n",
    "        self.costs.append(cost)\n",
    "\n",
    "\n",
    "\n",
    "\n",
    "def cost_function(frequency_data,parameters):\n",
    "    '''\n",
    "    cost_function for optimizer.\n",
    "    Given parameters for some quantum state (rho) this gives the log_likelihood of getting the frequencies that are given as input.\n",
    "    \n",
    "    Loss = sum_over_i of {-frequency[i]*log(Tr(rho*operator[i])}\n",
    "    '''\n",
    "    \n",
    "    loss=0\n",
    "    x=parameters[0]\n",
    "    z=parameters[1]\n",
    "    rho=0.5*np.array([[1+z,x],[x,1-z]])   # a state on a bloch sphere at some (x,y=0,z) has this matrix representation\n",
    "    i=0\n",
    "    for key,value in frequency_data.items():\n",
    "       \n",
    "        \n",
    "        \n",
    "        operator=op_list[i]\n",
    "        \n",
    "        predicted_prob= np.trace(np.matmul(rho,operator))    # Rule to calculate probabilities from a given state rho and measurement operator\n",
    "        \n",
    "        \n",
    "        loss=loss-value*np.log(np.abs(predicted_prob))     #loss function as defined in the reference shared on MLE, this is called the log likelihood\n",
    "        i+=1\n",
    "    \n",
    "    #loss=loss+1000*(np.linalg.norm(parameters) - 1)**2       #add for constraint that the state lies on the bloch sphere\n",
    "    return loss\n",
    "\n",
    "        \n",
    "def objective_function(parameters):\n",
    "    \"\"\"Cost function of circuit parameters on training data.\n",
    "    The optimizer will attempt to minimize this.\"\"\"\n",
    "    \n",
    "    return cost_function(frequency_data , parameters)"
   ]
  },
  {
   "cell_type": "markdown",
   "id": "bf9882bc",
   "metadata": {},
   "source": [
    "#\n",
    "## The  frequencies we want (target frequencies) given as dictionary. Can change later (for arbitary directions)\n",
    "## x1/x0 is the number of outcomes with output '1' / '0' when measuring along x\n"
   ]
  },
  {
   "cell_type": "code",
   "execution_count": 5,
   "id": "01ed743d",
   "metadata": {},
   "outputs": [],
   "source": [
    "frequency_data={'z0':0.25, 'z1':0.25 ,'x0':0.5 ,'x1':0.0}\n",
    "# frequency_data = {'z0':0.25, 'z1':0.25 }   for single basis\n"
   ]
  },
  {
   "cell_type": "code",
   "execution_count": 6,
   "id": "b6fa03f6",
   "metadata": {},
   "outputs": [],
   "source": [
    "# Set and optimizer\n",
    "SPSA_log=OptimizerLog()\n",
    "\n",
    "optimizer_SPSA = SPSA(maxiter=200, callback=SPSA_log.update)\n",
    "optimizer_GD=GradientDescent(maxiter=100,callback=SPSA_log.update,perturbation=0.1,learning_rate=0.3)"
   ]
  },
  {
   "cell_type": "code",
   "execution_count": 7,
   "id": "75406ed9",
   "metadata": {},
   "outputs": [
    {
     "name": "stdout",
     "output_type": "stream",
     "text": [
      "[-0.9, 0.0]\n"
     ]
    }
   ],
   "source": [
    "num_params=2   # Two parameters for x and z coordinate of the state on bloch sphere\n",
    "repeat=True\n",
    "while(repeat):\n",
    "    initial_point=np.random.random(num_params)    # To get a state inside the bloch sphere only\n",
    "    if np.linalg.norm(initial_point)<1:\n",
    "        repeat=False\n",
    "\n",
    "initial_point=[-0.9, 0.0]    #Setting the initial point manually\n",
    "\n",
    "result_SPSA=optimizer_GD.minimize(objective_function,initial_point,bounds=[(-1,1),(-1,1)])\n",
    "print(initial_point)"
   ]
  },
  {
   "cell_type": "code",
   "execution_count": 8,
   "id": "f4a11c25",
   "metadata": {},
   "outputs": [
    {
     "data": {
      "image/png": "[encoded data removed]",
      "text/plain": [
       "<Figure size 640x480 with 1 Axes>"
      ]
     },
     "metadata": {},
     "output_type": "display_data"
    },
    {
     "name": "stdout",
     "output_type": "stream",
     "text": [
      "0.530065976663423\n",
      "final parameters , x and z : [ 4.54950278 -0.05      ]\n",
      "300\n"
     ]
    }
   ],
   "source": [
    "opt_var = result_SPSA.x\n",
    "opt_value = result_SPSA.fun\n",
    "y=result_SPSA.nfev\n",
    "\n",
    "import matplotlib.pyplot as plt\n",
    "fig = plt.figure()\n",
    "plt.plot(SPSA_log.evaluations, SPSA_log.costs)\n",
    "plt.xlabel('Steps')\n",
    "plt.ylabel('Cost')\n",
    "plt.show()\n",
    "print(opt_value)\n",
    "print('final parameters , x and z :' ,opt_var)\n",
    "print(y)"
   ]
  },
  {
   "cell_type": "code",
   "execution_count": null,
   "id": "84bcf120",
   "metadata": {},
   "outputs": [],
   "source": []
  },
  {
   "cell_type": "code",
   "execution_count": 9,
   "id": "21ee1883",
   "metadata": {},
   "outputs": [
    {
     "name": "stdout",
     "output_type": "stream",
     "text": [
      "Norm of state =  4.5497775228334865\n"
     ]
    }
   ],
   "source": [
    "print('Norm of state = ', np.linalg.norm(opt_var))   # Should be less than 1, for state inside the sphere\n",
    "\n",
    "param_history=np.array(SPSA_log.parameters)\n",
    "\n",
    "\n"
   ]
  },
  {
   "cell_type": "code",
   "execution_count": 10,
   "id": "c10c1315",
   "metadata": {},
   "outputs": [],
   "source": [
    "def cost_line(frequency_data,X,Y):\n",
    "    return [cost_function(frequency_data,[x,y]) for x,y in zip(X,Y)]"
   ]
  },
  {
   "cell_type": "code",
   "execution_count": 15,
   "id": "f9c93d11",
   "metadata": {},
   "outputs": [
    {
     "data": {
      "image/png": "[encoded data removed]",
      "text/plain": [
       "<Figure size 640x480 with 2 Axes>"
      ]
     },
     "metadata": {},
     "output_type": "display_data"
    }
   ],
   "source": [
    "\n",
    "import numpy as np\n",
    "import matplotlib.pyplot as plt\n",
    "\n",
    "x_range=[-0.9,0.9]\n",
    "    # Generate coordinate arrays\n",
    "x = np.linspace(x_range[0],x_range[1], 100)\n",
    "z = np.linspace(x_range[0],x_range[1], 100)\n",
    "\n",
    "    # Create a grid of coordinate pairs\n",
    "X, Z = np.meshgrid(x, z)\n",
    "\n",
    "F=[cost_line(frequency_data,x,z) for x,z in zip(X,Z)]\n",
    "plt.imshow(F, cmap='hot', origin='lower',extent=[x_range[0], x_range[1],x_range[0],x_range[1]])\n",
    "plt.colorbar(label='Function Value')  # Add colorbar with label\n",
    "plt.xlabel('X')\n",
    "plt.ylabel('Z')\n",
    "plt.title('Heatmap of the loss function')\n",
    "plt.scatter(initial_point[0],initial_point[1],c='g',label='start',s=100)\n",
    "plt.scatter(param_history[:,0], param_history[:,1])\n",
    "plt.scatter(param_history[-1,0],param_history[-1,1],c='r',label='end')\n",
    "plt.legend()\n",
    "plt.show()"
   ]
  },
  {
   "cell_type": "code",
   "execution_count": null,
   "id": "ed1a0f55",
   "metadata": {},
   "outputs": [],
   "source": [
    "## There was some bug in the The algorithm is actually working fine"
   ]
  },
  {
   "cell_type": "code",
   "execution_count": 12,
   "id": "cd84a49d",
   "metadata": {},
   "outputs": [
    {
     "data": {
      "text/plain": [
       "1.3862943611198908"
      ]
     },
     "execution_count": 12,
     "metadata": {},
     "output_type": "execute_result"
    }
   ],
   "source": [
    "cost_function(frequency_data,[0,0])"
   ]
  },
  {
   "cell_type": "code",
   "execution_count": 13,
   "id": "ea0c1b67",
   "metadata": {},
   "outputs": [],
   "source": [
    "def new_objective_function(parameters):\n",
    "    \n",
    "    t1=parameters[0]\n",
    "    t2=parameters[1]\n",
    "    t3=parameters[2]\n",
    "    T=np.array([[0,t1],[t2,t3]],dtype=np.complex128)\n",
    "    T_=np.transpose(np.conj(T))\n",
    "    \n",
    "    rho=np.matmul(T,T_)   # a state on a bloch sphere at some (x,y=0,z) has this matrix representation\n",
    "    i=0\n",
    "    loss=0\n",
    "    for value in frequency_data:\n",
    "       \n",
    "        \n",
    "        \n",
    "        operator=op_list[i]\n",
    "        \n",
    "        predicted_prob= np.trace(np.matmul(rho,operator))    # Rule to calculate probabilities from a given state rho and measurement operator\n",
    "        \n",
    "        \n",
    "        loss=loss-value*np.log(np.abs(predicted_prob))     #loss function as defined in the reference shared on MLE, this is called the log likelihood\n",
    "        i+=1\n",
    "    \n",
    "    #loss=loss+1000*(np.linalg.norm(parameters) - 1)**2       #add for constraint that the state lies on the bloch sphere\n",
    "    return loss\n"
   ]
  },
  {
   "cell_type": "code",
   "execution_count": null,
   "id": "607c918a",
   "metadata": {},
   "outputs": [],
   "source": []
  }
 ],
 "metadata": {
  "kernelspec": {
   "display_name": "Python 3 (ipykernel)",
   "language": "python",
   "name": "python3"
  },
  "language_info": {
   "codemirror_mode": {
    "name": "ipython",
    "version": 3
   },
   "file_extension": ".py",
   "mimetype": "text/x-python",
   "name": "python",
   "nbconvert_exporter": "python",
   "pygments_lexer": "ipython3",
   "version": "3.9.13"
  }
 },
 "nbformat": 4,
 "nbformat_minor": 5
}
