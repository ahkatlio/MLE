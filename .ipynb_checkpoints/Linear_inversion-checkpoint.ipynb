{
 "cells": [
  {
   "cell_type": "code",
   "execution_count": 1,
   "metadata": {},
   "outputs": [],
   "source": [
    "from qiskit import QuantumCircuit,Aer, execute,transpile,Aer\n",
    "import numpy as np\n",
    "from qiskit.providers.fake_provider import FakeManilaV2\n",
    "from qiskit.visualization import plot_histogram\n",
    "import matplotlib.pyplot as plt"
   ]
  },
  {
   "cell_type": "code",
   "execution_count": 55,
   "metadata": {},
   "outputs": [],
   "source": [
    "\n",
    "def get_operator_list(measurement_list):\n",
    "    '''\n",
    "    function that return matrix representation of measurement operators given a list of measurement_directions\n",
    "    \n",
    "    Arg: measurement_list , a list of state_vectors. (2 state_vectors per direction)\n",
    "    Returns a list of operators\n",
    "    '''\n",
    "    op_list=[]\n",
    "    for state in measurement_list:\n",
    "        operator=np.outer(state,state)\n",
    "        operator=operator/(len(measurement_list)/2)\n",
    "        op_list.append(operator)\n",
    "        \n",
    "    return op_list\n",
    "\n",
    "def spherical_to_amplitudes(measurement_basis):\n",
    "    \n",
    "    '''\n",
    "    function that gives state_vectors when measurement directions are given in angles\n",
    "    Arg: measurement_basis , a list of (theta,phi) tuples for directions\n",
    "    \n",
    "    Returns a list of state_vectors , i.e a measurement_list\n",
    "    '''\n",
    "    measurement_list=[]\n",
    "    for basis in measurement_basis:\n",
    "        a1=np.cos(basis[0]/2)\n",
    "        b1=np.sin(basis[0]/2)*np.exp(1.0j*basis[1])\n",
    "        a2=-np.sin([basis[0]/2])\n",
    "        b2=np.cos([basis[0]/2])*np.exp(1.0j*basis[1])\n",
    "        positive_direction=[a1,b1]\n",
    "        negative_direction=[a2,b2]\n",
    "        measurement_list.append(positive_direction)\n",
    "        measurement_list.append(negative_direction)\n",
    "    return measurement_list\n",
    "\n",
    "\n",
    "noisy_backend = FakeManilaV2()                    # backend for noisy measurements\n",
    "\n",
    "ideal_backend=Aer.get_backend('qasm_simulator')    # Use this for ideal measurements\n",
    "\n",
    "measurement_basis=[(0,0), (np.pi/2,0)]     # list of (theta, phi) tuples\n",
    "\n",
    "\n",
    "weights=[0.5,0.5]     # should sum to one, provides the relative frequencies with which different measurement directions were chosen\n",
    "\n"
   ]
  },
  {
   "cell_type": "code",
   "execution_count": 56,
   "metadata": {},
   "outputs": [],
   "source": [
    "op_list=get_operator_list(spherical_to_amplitudes(measurement_basis))  ## getting the operator list from measurement directions"
   ]
  },
  {
   "cell_type": "code",
   "execution_count": 57,
   "metadata": {},
   "outputs": [],
   "source": [
    "def measure_results(measurement_basis,backend,initial_state=np.array([1,0])):\n",
    "    '''\n",
    "    function that gives the counts corresponding to all the measurements\n",
    "    Arguments: measurement_basis, backend to use and the initial_state of the qubit.\n",
    "    '''\n",
    "    \n",
    "    outcomes=[]\n",
    "    for basis in measurement_basis:\n",
    "        circuit=QuantumCircuit(1)\n",
    "        circuit.initialize(initial_state)\n",
    "        circuit.u(basis[0],basis[1],0,0)\n",
    "        \n",
    "        circuit.measure_all()\n",
    "        transpiled_circuit = transpile(circuit, backend)\n",
    "        \n",
    "        transpiled_circuit.draw('mpl')\n",
    "        plt.show()\n",
    "        job = backend.run(transpiled_circuit)\n",
    "        counts = job.result().get_counts()\n",
    "        \n",
    "        outcomes.append(counts)\n",
    "        \n",
    "    return outcomes\n",
    "\n",
    "def get_normalized_outcomes(outcomes, weights=[0.5,0.5]):\n",
    "    '''\n",
    "    normalizes the outcomes , so that all results sum to one.\n",
    "    \n",
    "    '''\n",
    "    \n",
    "    normalized_outcomes=outcomes.copy()\n",
    "    total_counts=0\n",
    "    for i,counts in enumerate(normalized_outcomes):\n",
    "        \n",
    "        total_counts=total_counts+(sum(normalized_outcomes[i].values()))*weights[i]\n",
    "      \n",
    "        if len(counts)==1:\n",
    "            normalized_outcomes[i]['dummy']=0.0\n",
    "        \n",
    "    \n",
    "    for i in range(len(normalized_outcomes)):\n",
    "        for key in normalized_outcomes[i]:\n",
    "            normalized_outcomes[i][key]=normalized_outcomes[i][key]*weights[i]/total_counts\n",
    "    \n",
    "    \n",
    "    \n",
    "    return normalized_outcomes\n",
    "\n",
    "def normalized_outcomes_to_frequency_vector(normalized_outcomes):\n",
    "    '''\n",
    "    Returns the final_frequency vector from normalized_outcomes\n",
    "    \n",
    "    '''\n",
    "    \n",
    "    dim=len(normalized_outcomes)*2\n",
    "    f=np.zeros(dim)\n",
    "    for i,outcomes in enumerate(normalized_outcomes):\n",
    "        \n",
    "        f[0+2*i]=outcomes.get('0',0.0)\n",
    "        f[1+2*i]=outcomes.get('1',0.0)\n",
    "        \n",
    "    return f"
   ]
  },
  {
   "cell_type": "code",
   "execution_count": 58,
   "metadata": {},
   "outputs": [],
   "source": [
    "outcomes=measure_results(measurement_basis,ideal_backend)"
   ]
  },
  {
   "cell_type": "code",
   "execution_count": 59,
   "metadata": {},
   "outputs": [
    {
     "data": {
      "text/plain": [
       "[{'0': 1024}, {'1': 502, '0': 522}]"
      ]
     },
     "execution_count": 59,
     "metadata": {},
     "output_type": "execute_result"
    }
   ],
   "source": [
    "outcomes"
   ]
  },
  {
   "cell_type": "code",
   "execution_count": 60,
   "metadata": {},
   "outputs": [
    {
     "data": {
      "text/plain": [
       "[{'0': 0.5, 'dummy': 0.0}, {'1': 0.2451171875, '0': 0.2548828125}]"
      ]
     },
     "execution_count": 60,
     "metadata": {},
     "output_type": "execute_result"
    }
   ],
   "source": [
    "normalized_outcomes=get_normalized_outcomes(outcomes)\n",
    "\n",
    "normalized_outcomes"
   ]
  },
  {
   "cell_type": "code",
   "execution_count": 61,
   "metadata": {},
   "outputs": [
    {
     "data": {
      "text/plain": [
       "array([0.5       , 0.        , 0.25488281, 0.24511719])"
      ]
     },
     "execution_count": 61,
     "metadata": {},
     "output_type": "execute_result"
    }
   ],
   "source": [
    "\n",
    "f_vector=normalized_outcomes_to_frequency_vector(normalized_outcomes)\n",
    "\n",
    "f_vector"
   ]
  },
  {
   "cell_type": "code",
   "execution_count": null,
   "metadata": {},
   "outputs": [],
   "source": []
  }
 ],
 "metadata": {
  "kernelspec": {
   "display_name": "Python 3 (ipykernel)",
   "language": "python",
   "name": "python3"
  },
  "language_info": {
   "codemirror_mode": {
    "name": "ipython",
    "version": 3
   },
   "file_extension": ".py",
   "mimetype": "text/x-python",
   "name": "python",
   "nbconvert_exporter": "python",
   "pygments_lexer": "ipython3",
   "version": "3.9.13"
  }
 },
 "nbformat": 4,
 "nbformat_minor": 2
}
