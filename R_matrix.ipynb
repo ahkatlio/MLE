{
 "cells": [
  {
   "cell_type": "code",
   "execution_count": 46,
   "metadata": {},
   "outputs": [],
   "source": [
    "import numpy as np\n",
    "from qiskit.quantum_info import Statevector"
   ]
  },
  {
   "cell_type": "code",
   "execution_count": 47,
   "metadata": {},
   "outputs": [],
   "source": [
    "def R_matrix(frequencies,operator_list, rho):    # Note: R is a function of rho  :--- R(rho)\n",
    "    R=np.zeros([2,2])\n",
    "    for f,op in zip(frequencies,operator_list):\n",
    "        predicted_prob=np.abs(np.trace(np.matmul(rho,operator_list)))\n",
    "        R=R+f*op/predicted_prob\n",
    "    return R\n",
    "\n",
    "def get_operator_list(measurement_list):\n",
    "    op_list=[]\n",
    "    for state in measurement_list:\n",
    "        operator=np.outer(state,state)\n",
    "        operator=operator/(len(measurement_list)/2)\n",
    "        op_list.append(operator)\n",
    "        \n",
    "    return op_list"
   ]
  },
  {
   "cell_type": "code",
   "execution_count": 48,
   "metadata": {},
   "outputs": [
    {
     "name": "stdout",
     "output_type": "stream",
     "text": [
      "[[0.5 +0.j 0.25+0.j]\n",
      " [0.25+0.j 0.5 +0.j]]\n"
     ]
    }
   ],
   "source": [
    "#Give frequencies as lift with a fixed convention\n",
    "frequencies=[0.25,0.25,0.5,0.0]      ## this state corresponds to +x\n",
    "\n",
    "x0=Statevector([1/np.sqrt(2),1/np.sqrt(2)])\n",
    "x1=Statevector([1/np.sqrt(2),-1/np.sqrt(2)])\n",
    "z0=Statevector([1,0])\n",
    "z1=Statevector([0,1])\n",
    "measurement_list=[z0,z1,x0,x1]\n",
    "operator_list=get_operator_list(measurement_list)\n",
    "\n",
    "rho=np.array([[1,0],[0,1]])\n",
    "\n",
    "R=R_matrix(frequencies,operator_list,rho)\n",
    "\n",
    "print(R)"
   ]
  },
  {
   "cell_type": "code",
   "execution_count": 52,
   "metadata": {},
   "outputs": [
    {
     "name": "stdout",
     "output_type": "stream",
     "text": [
      "[[0.5+0.j 0.5+0.j]\n",
      " [0.5+0.j 0.5+0.j]]\n"
     ]
    }
   ],
   "source": [
    "def MLE_iteration(frequencies,operator_list):\n",
    "    rho=0.5*np.array([[1,0],[0,1]])\n",
    "    for step in range(100):\n",
    "        R=R_matrix(frequencies,operator_list,rho)\n",
    "        new_rho=np.matmul(np.matmul(R,rho),R)\n",
    "        normalized_new_rho= new_rho/np.trace(new_rho)\n",
    "        rho=normalized_new_rho\n",
    "    return rho\n",
    "\n",
    "\n",
    "final_rho=MLE_iteration(frequencies,operator_list)\n",
    "print(final_rho)"
   ]
  }
 ],
 "metadata": {
  "kernelspec": {
   "display_name": "base",
   "language": "python",
   "name": "python3"
  },
  "language_info": {
   "codemirror_mode": {
    "name": "ipython",
    "version": 3
   },
   "file_extension": ".py",
   "mimetype": "text/x-python",
   "name": "python",
   "nbconvert_exporter": "python",
   "pygments_lexer": "ipython3",
   "version": "3.9.13"
  },
  "orig_nbformat": 4
 },
 "nbformat": 4,
 "nbformat_minor": 2
}
